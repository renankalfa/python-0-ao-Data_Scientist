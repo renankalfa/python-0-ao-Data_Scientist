{
 "cells": [
  {
   "cell_type": "markdown",
   "id": "a5d125cc",
   "metadata": {},
   "source": [
    "# Estruturas de Controle - Módulo 4"
   ]
  },
  {
   "cell_type": "markdown",
   "id": "e4bf06ab",
   "metadata": {},
   "source": [
    "## Novas perguntas do CEO\n",
    "\n",
    "1. Qual a média do preço de compra dos imóveis por “Nível”? \n",
    "- Nível 0 -> Preço entre 0 e 321.950\n",
    "- Nível 1 -> Preço entre 321.950 e 450.000\n",
    "- Nível 2 -> Preço entre 450.000 e 645.000\n",
    "- Nível 3 -> Acima de 645.000\n",
    "\n",
    "2. Qual a média do tamanho da sala de estar dos imóveis por “Size” ?\n",
    "- Size 0 -> Tamanho entre 0 e 1427 sqft\n",
    "- Size 1 -> Tamanho entre 1427 e 1910 sqft\n",
    "- Size 2 -> Tamanho entre 1910 e 2550 sqft\n",
    "- Size 3 -> Tamanho acima de 2550 sqft\n",
    "\n",
    "3. Adicione as seguinte informações ao conjunto de dados original:\n",
    "- Place ID: Identificação da localização\n",
    "- OSM Type: Open Street Map type\n",
    "- Country: Nome do País\n",
    "- Country Code: Código do País\n",
    "\n",
    "4. Adicione os seguinte filtros no Mapa:\n",
    "- Tamanho mínimo da área da sala de estar.\n",
    "- Número mínimo de banheiros.\n",
    "- Valor Máximo do Preço.\n",
    "- Tamanho máximo da área do porão.\n",
    "- Filtro das Condições do Imóvel.\n",
    "- Filtro por Ano de Construção.\n",
    "\n",
    "5. Adicione os seguinte filtros no Dashboard:\n",
    "- Filtro por data disponível para compra.\n",
    "- Filtro por ano de renovação.\n",
    "- Filtro se possui vista para a água ou não."
   ]
  },
  {
   "cell_type": "markdown",
   "id": "ce4d7574",
   "metadata": {},
   "source": [
    "# Resolução"
   ]
  },
  {
   "cell_type": "markdown",
   "id": "8af59d76",
   "metadata": {},
   "source": [
    "## Import Libraries"
   ]
  },
  {
   "cell_type": "code",
   "execution_count": 63,
   "id": "42d86ada",
   "metadata": {},
   "outputs": [],
   "source": [
    "import pandas as pd\n",
    "import numpy as np\n",
    "import seaborn as sns\n",
    "\n",
    "from matplotlib import gridspec\n",
    "from matplotlib import pyplot as plt\n",
    "import ipywidgets as widgets\n",
    "import plotly.express as px\n",
    "from ipywidgets import interact, interactive, fixed, interact_manual"
   ]
  },
  {
   "cell_type": "code",
   "execution_count": 64,
   "id": "a0a967f1",
   "metadata": {},
   "outputs": [],
   "source": [
    "# Supress Scientific Notation\n",
    "np.set_printoptions(suppress=True)\n",
    "pd.set_option('display.float_format', '{:.2f}'.format)"
   ]
  },
  {
   "cell_type": "markdown",
   "id": "02cb60a0",
   "metadata": {},
   "source": [
    "## Loading Data"
   ]
  },
  {
   "cell_type": "code",
   "execution_count": 65,
   "id": "820f3bbd",
   "metadata": {},
   "outputs": [],
   "source": [
    "data = pd.read_csv('datasets/kc_house_data.csv')\n",
    "\n",
    "data['date'] = pd.to_datetime( data['date'], format='%Y-%m-%d' )"
   ]
  },
  {
   "cell_type": "markdown",
   "id": "dd188379",
   "metadata": {},
   "source": [
    "## 1. Qual a média do preço de compra dos imóveis por “Nível”? \n",
    "- Nível 0 -> Preço entre 0 e 321.950\n",
    "- Nível 1 -> Preço entre 321.950 e 450.000\n",
    "- Nível 2 -> Preço entre 450.000 e 645.000\n",
    "- Nível 3 -> Acima de 645.000"
   ]
  },
  {
   "cell_type": "code",
   "execution_count": 66,
   "id": "43cdd6bb",
   "metadata": {},
   "outputs": [],
   "source": [
    "data['level'] = data['price'].apply(lambda x: 'lv0' if x <= 321950 else\n",
    "                                   'lv1' if (x > 321950) & (x <= 450000) else\n",
    "                                   'lv2' if (x > 450000) & (x <= 645000) else\n",
    "                                   'lv3')"
   ]
  },
  {
   "cell_type": "code",
   "execution_count": 67,
   "id": "8b078589",
   "metadata": {},
   "outputs": [
    {
     "data": {
      "text/html": [
       "<div>\n",
       "<style scoped>\n",
       "    .dataframe tbody tr th:only-of-type {\n",
       "        vertical-align: middle;\n",
       "    }\n",
       "\n",
       "    .dataframe tbody tr th {\n",
       "        vertical-align: top;\n",
       "    }\n",
       "\n",
       "    .dataframe thead th {\n",
       "        text-align: right;\n",
       "    }\n",
       "</style>\n",
       "<table border=\"1\" class=\"dataframe\">\n",
       "  <thead>\n",
       "    <tr style=\"text-align: right;\">\n",
       "      <th></th>\n",
       "      <th>level</th>\n",
       "      <th>price</th>\n",
       "    </tr>\n",
       "  </thead>\n",
       "  <tbody>\n",
       "    <tr>\n",
       "      <th>0</th>\n",
       "      <td>lv0</td>\n",
       "      <td>251557.65</td>\n",
       "    </tr>\n",
       "    <tr>\n",
       "      <th>1</th>\n",
       "      <td>lv1</td>\n",
       "      <td>385688.68</td>\n",
       "    </tr>\n",
       "    <tr>\n",
       "      <th>2</th>\n",
       "      <td>lv2</td>\n",
       "      <td>539730.96</td>\n",
       "    </tr>\n",
       "    <tr>\n",
       "      <th>3</th>\n",
       "      <td>lv3</td>\n",
       "      <td>987540.22</td>\n",
       "    </tr>\n",
       "  </tbody>\n",
       "</table>\n",
       "</div>"
      ],
      "text/plain": [
       "  level     price\n",
       "0   lv0 251557.65\n",
       "1   lv1 385688.68\n",
       "2   lv2 539730.96\n",
       "3   lv3 987540.22"
      ]
     },
     "execution_count": 67,
     "metadata": {},
     "output_type": "execute_result"
    }
   ],
   "source": [
    "data[['level', 'price']].groupby('level'). mean().reset_index()"
   ]
  },
  {
   "cell_type": "markdown",
   "id": "1c606621",
   "metadata": {},
   "source": [
    "## 2. Qual a média do tamanho da sala de estar dos imóveis por “Size” ?\n",
    "- Size 0 -> Tamanho entre 0 e 1427 sqft\n",
    "- Size 1 -> Tamanho entre 1427 e 1910 sqft\n",
    "- Size 2 -> Tamanho entre 1910 e 2550 sqft\n",
    "- Size 3 -> Tamanho acima de 2550 sqft"
   ]
  },
  {
   "cell_type": "code",
   "execution_count": 68,
   "id": "d22d08fd",
   "metadata": {},
   "outputs": [],
   "source": [
    "data['size'] = data['sqft_living'].apply(lambda x: 'size0' if x <= 1427 else\n",
    "                                        'size1' if (x > 1427) & (x <= 1910) else\n",
    "                                        'size2' if (x > 1910) & ( x <= 2550) else 'size3')"
   ]
  },
  {
   "cell_type": "code",
   "execution_count": 69,
   "id": "80923e85",
   "metadata": {},
   "outputs": [
    {
     "data": {
      "text/html": [
       "<div>\n",
       "<style scoped>\n",
       "    .dataframe tbody tr th:only-of-type {\n",
       "        vertical-align: middle;\n",
       "    }\n",
       "\n",
       "    .dataframe tbody tr th {\n",
       "        vertical-align: top;\n",
       "    }\n",
       "\n",
       "    .dataframe thead th {\n",
       "        text-align: right;\n",
       "    }\n",
       "</style>\n",
       "<table border=\"1\" class=\"dataframe\">\n",
       "  <thead>\n",
       "    <tr style=\"text-align: right;\">\n",
       "      <th></th>\n",
       "      <th>size</th>\n",
       "      <th>sqft_living</th>\n",
       "    </tr>\n",
       "  </thead>\n",
       "  <tbody>\n",
       "    <tr>\n",
       "      <th>0</th>\n",
       "      <td>size0</td>\n",
       "      <td>1123.83</td>\n",
       "    </tr>\n",
       "    <tr>\n",
       "      <th>1</th>\n",
       "      <td>size1</td>\n",
       "      <td>1664.96</td>\n",
       "    </tr>\n",
       "    <tr>\n",
       "      <th>2</th>\n",
       "      <td>size2</td>\n",
       "      <td>2211.79</td>\n",
       "    </tr>\n",
       "    <tr>\n",
       "      <th>3</th>\n",
       "      <td>size3</td>\n",
       "      <td>3329.61</td>\n",
       "    </tr>\n",
       "  </tbody>\n",
       "</table>\n",
       "</div>"
      ],
      "text/plain": [
       "    size  sqft_living\n",
       "0  size0      1123.83\n",
       "1  size1      1664.96\n",
       "2  size2      2211.79\n",
       "3  size3      3329.61"
      ]
     },
     "execution_count": 69,
     "metadata": {},
     "output_type": "execute_result"
    }
   ],
   "source": [
    "data[['sqft_living', 'size']].groupby('size').mean().reset_index()"
   ]
  },
  {
   "cell_type": "markdown",
   "id": "4ce9caeb",
   "metadata": {},
   "source": [
    "## 3. Adicione as seguinte informações ao conjunto de dados original:\n",
    "- Place ID: Identificação da localização\n",
    "- OSM Type: Open Street Map type\n",
    "- Country: Nome do País\n",
    "- Country Code: Código do País"
   ]
  },
  {
   "cell_type": "code",
   "execution_count": 70,
   "id": "b99b0a44",
   "metadata": {
    "scrolled": true
   },
   "outputs": [
    {
     "name": "stdout",
     "output_type": "stream",
     "text": [
      "0.015625\n"
     ]
    }
   ],
   "source": [
    "import time\n",
    "import dataget\n",
    "from multiprocessing import Pool\n",
    "\n",
    "data['query'] = data[['lat', 'long']].apply(lambda x: str(x['lat']) + ',' + str(x['long']), axis=1)\n",
    "df1 = data[['id', 'query']].head()\n",
    "\n",
    "p = Pool(2)\n",
    "start = time.process_time()\n",
    "df1[['place_id', 'osm_type', 'country', 'country_code']] = p.map(dataget.get_data, df1.iterrows())\n",
    "print(time.process_time() - start)"
   ]
  },
  {
   "cell_type": "code",
   "execution_count": 71,
   "id": "71fce08d",
   "metadata": {},
   "outputs": [
    {
     "data": {
      "text/html": [
       "<div>\n",
       "<style scoped>\n",
       "    .dataframe tbody tr th:only-of-type {\n",
       "        vertical-align: middle;\n",
       "    }\n",
       "\n",
       "    .dataframe tbody tr th {\n",
       "        vertical-align: top;\n",
       "    }\n",
       "\n",
       "    .dataframe thead th {\n",
       "        text-align: right;\n",
       "    }\n",
       "</style>\n",
       "<table border=\"1\" class=\"dataframe\">\n",
       "  <thead>\n",
       "    <tr style=\"text-align: right;\">\n",
       "      <th></th>\n",
       "      <th>id</th>\n",
       "      <th>query</th>\n",
       "      <th>place_id</th>\n",
       "      <th>osm_type</th>\n",
       "      <th>country</th>\n",
       "      <th>country_code</th>\n",
       "    </tr>\n",
       "  </thead>\n",
       "  <tbody>\n",
       "    <tr>\n",
       "      <th>0</th>\n",
       "      <td>7129300520</td>\n",
       "      <td>47.5112,-122.257</td>\n",
       "      <td>161022547</td>\n",
       "      <td>way</td>\n",
       "      <td>United States</td>\n",
       "      <td>us</td>\n",
       "    </tr>\n",
       "    <tr>\n",
       "      <th>1</th>\n",
       "      <td>6414100192</td>\n",
       "      <td>47.721,-122.319</td>\n",
       "      <td>160016678</td>\n",
       "      <td>way</td>\n",
       "      <td>United States</td>\n",
       "      <td>us</td>\n",
       "    </tr>\n",
       "    <tr>\n",
       "      <th>2</th>\n",
       "      <td>5631500400</td>\n",
       "      <td>47.7379,-122.233</td>\n",
       "      <td>74951055</td>\n",
       "      <td>node</td>\n",
       "      <td>United States</td>\n",
       "      <td>us</td>\n",
       "    </tr>\n",
       "    <tr>\n",
       "      <th>3</th>\n",
       "      <td>2487200875</td>\n",
       "      <td>47.5208,-122.393</td>\n",
       "      <td>156726151</td>\n",
       "      <td>way</td>\n",
       "      <td>United States</td>\n",
       "      <td>us</td>\n",
       "    </tr>\n",
       "    <tr>\n",
       "      <th>4</th>\n",
       "      <td>1954400510</td>\n",
       "      <td>47.6168,-122.045</td>\n",
       "      <td>296045104</td>\n",
       "      <td>way</td>\n",
       "      <td>United States</td>\n",
       "      <td>us</td>\n",
       "    </tr>\n",
       "  </tbody>\n",
       "</table>\n",
       "</div>"
      ],
      "text/plain": [
       "           id             query   place_id osm_type        country  \\\n",
       "0  7129300520  47.5112,-122.257  161022547      way  United States   \n",
       "1  6414100192   47.721,-122.319  160016678      way  United States   \n",
       "2  5631500400  47.7379,-122.233   74951055     node  United States   \n",
       "3  2487200875  47.5208,-122.393  156726151      way  United States   \n",
       "4  1954400510  47.6168,-122.045  296045104      way  United States   \n",
       "\n",
       "  country_code  \n",
       "0           us  \n",
       "1           us  \n",
       "2           us  \n",
       "3           us  \n",
       "4           us  "
      ]
     },
     "execution_count": 71,
     "metadata": {},
     "output_type": "execute_result"
    }
   ],
   "source": [
    "df1.head()"
   ]
  },
  {
   "cell_type": "code",
   "execution_count": 72,
   "id": "9584ffc5",
   "metadata": {},
   "outputs": [
    {
     "data": {
      "text/plain": [
       "id                        int64\n",
       "date             datetime64[ns]\n",
       "price                   float64\n",
       "bedrooms                  int64\n",
       "bathrooms               float64\n",
       "sqft_living               int64\n",
       "sqft_lot                  int64\n",
       "floors                  float64\n",
       "waterfront                int64\n",
       "view                      int64\n",
       "condition                 int64\n",
       "grade                     int64\n",
       "sqft_above                int64\n",
       "sqft_basement             int64\n",
       "yr_built                  int64\n",
       "yr_renovated              int64\n",
       "zipcode                   int64\n",
       "lat                     float64\n",
       "long                    float64\n",
       "sqft_living15             int64\n",
       "sqft_lot15                int64\n",
       "level                    object\n",
       "size                     object\n",
       "query                    object\n",
       "dtype: object"
      ]
     },
     "execution_count": 72,
     "metadata": {},
     "output_type": "execute_result"
    }
   ],
   "source": [
    "data.dtypes"
   ]
  },
  {
   "cell_type": "markdown",
   "id": "fcd5cec4",
   "metadata": {},
   "source": [
    "## 4. Adicione os seguintes filtros no Mapa:\n",
    "- Tamanho mínimo da área da sala de estar: usares o sqft_living para filtrar;\n",
    "- Número mínimo de banheiros: usaremos o bathrooms;\n",
    "- Valor Máximo do Preço: usaremos o price;\n",
    "- Tamanho máximo da área do porão: usaremos o basement;\n",
    "- Filtro das Condições do Imóvel: usaremos o condition\n",
    "- Filtro por Ano de Construção: usaremos o yr_built."
   ]
  },
  {
   "cell_type": "code",
   "execution_count": 73,
   "id": "32b4156c",
   "metadata": {
    "scrolled": true
   },
   "outputs": [],
   "source": [
    "data['level'] = data['price'].apply(lambda x: 0 if x <= 321950 else \n",
    "                                           1 if (x > 321950) & (x <= 450000) else \n",
    "                                           2 if (x > 450000) & (x <= 645000) else 3)\n",
    "\n",
    "# Iterative buttons\n",
    "                                    \n",
    "living_min = widgets.IntSlider(\n",
    "    min=data['sqft_living'].min(),\n",
    "    max=data['sqft_living'].max(),\n",
    "    step=1, description='minimum living room',\n",
    "    disable=False)\n",
    "\n",
    "bath_min = widgets.IntSlider(\n",
    "    min=data['bathrooms'].min(),\n",
    "    max=data['bathrooms'].max(),\n",
    "    step=1, description='min bathrooms numbers',\n",
    "    disable=False)\n",
    "\n",
    "price_max = widgets.IntSlider(\n",
    "    value=data['price'].max(),\n",
    "    min=data['price'].min(),\n",
    "    max=data['price'].max(),\n",
    "    step=1, description='max price',\n",
    "    disable=False)\n",
    "\n",
    "basemant_max = widgets.IntSlider(\n",
    "    min=data['sqft_basement'].min(),\n",
    "    max=data['sqft_basement'].max(),\n",
    "    step=1, description='max basemant', value=data['sqft_basement'].max(),\n",
    "    disable=False)\n",
    "\n",
    "condition_set = widgets.Dropdown(\n",
    "    options=sorted(data['condition'].unique().tolist()),\n",
    "    value=3,\n",
    "    description='condition', disable=False\n",
    ")\n",
    "\n",
    "year_min = widgets.IntSlider(\n",
    "    value = int( data['yr_built'].mean()), \n",
    "    min = data['yr_built'].min(),\n",
    "    max = data['yr_built'].max(),\n",
    "    step = 1,\n",
    "    description='year built',\n",
    "    disable=False,\n",
    "    style={'description_width': 'initial'}\n",
    ")\n",
    "\n",
    "# Creating a uptade_map function\n",
    "def update_map(df, living, bath, price, basemant, condition, year):\n",
    "    data_map = df[(df['sqft_living'] >= living) &\n",
    "                 (df['bathrooms'] >= bath) &\n",
    "                 (df['price'] <= price) &\n",
    "                 (df['sqft_basement'] <= basemant) &\n",
    "                 (df['condition'] == condition) &\n",
    "                 (df['yr_built'] >= year)]\n",
    "    \n",
    "    fig = px.scatter_mapbox( data_map, \n",
    "                             lat=\"lat\", \n",
    "                             lon=\"long\", \n",
    "                             size=\"price\",\n",
    "                             color=\"level\",\n",
    "                             color_continuous_scale=px.colors.cyclical.IceFire, \n",
    "                             size_max=30, \n",
    "                             zoom=10)\n",
    "\n",
    "    fig.update_layout(mapbox_style=\"open-street-map\")\n",
    "    fig.update_layout(height=600, margin={\"r\":0,\"t\":0,\"l\":0,\"b\":0})\n",
    "    fig.show()"
   ]
  },
  {
   "cell_type": "code",
   "execution_count": 99,
   "id": "ce705625",
   "metadata": {},
   "outputs": [
    {
     "data": {
      "application/vnd.jupyter.widget-view+json": {
       "model_id": "133957ce2785408e9e88715008f99bce",
       "version_major": 2,
       "version_minor": 0
      },
      "text/plain": [
       "interactive(children=(IntSlider(value=290, description='minimum living room', max=13540, min=290), IntSlider(v…"
      ]
     },
     "metadata": {},
     "output_type": "display_data"
    }
   ],
   "source": [
    "widgets.interactive(update_map, df=fixed(data), living=living_min, \n",
    "                    bath=bath_min, price=price_max,\n",
    "                   basemant=basemant_max, condition=condition_set,\n",
    "                   year=year_min)"
   ]
  },
  {
   "cell_type": "markdown",
   "id": "1f6cfa3f",
   "metadata": {},
   "source": [
    "## 5. Adicione os seguinte filtros no Dashboard:\n",
    "   - Filtro por data disponível para compra.\n",
    "   - Filtro por ano de renovação.\n",
    "   - Filtro se possui vista para a água ou não."
   ]
  },
  {
   "cell_type": "code",
   "execution_count": 75,
   "id": "d115a308",
   "metadata": {},
   "outputs": [],
   "source": [
    "data['year'] = pd.to_datetime(data['date']).dt.strftime('%Y')\n",
    "data['date'] = pd.to_datetime(data['date']).dt.strftime('%Y-%m-%d')\n",
    "data['year_week'] = pd.to_datetime(data['date']).dt.strftime('%Y-%U')"
   ]
  },
  {
   "cell_type": "markdown",
   "id": "f1dd8915",
   "metadata": {},
   "source": [
    "Criando o dashboard separadamente"
   ]
  },
  {
   "cell_type": "code",
   "execution_count": 77,
   "id": "a5745c1f",
   "metadata": {},
   "outputs": [
    {
     "data": {
      "image/png": "[encoded data removed]",
      "text/plain": [
       "<Figure size 1440x864 with 3 Axes>"
      ]
     },
     "metadata": {
      "needs_background": "light"
     },
     "output_type": "display_data"
    }
   ],
   "source": [
    "fig= plt.figure(figsize=(20, 12))\n",
    "specs = gridspec.GridSpec(ncols=2, nrows=2, figure=fig)\n",
    "    \n",
    "ax1 = fig.add_subplot(specs[0, :])\n",
    "ax2 = fig.add_subplot(specs[1, 0])\n",
    "ax3 = fig.add_subplot(specs[1, 1])\n",
    "\n",
    "year_data = data[['price', 'year']].groupby('year').sum().reset_index()\n",
    "ax1.bar(year_data['year'], year_data['price']);\n",
    "ax1.set_title('Sum of Price by Year');\n",
    "\n",
    "day_data = data[['price', 'date']].groupby('date').mean().reset_index()\n",
    "ax2.plot(day_data['date'], day_data['price']);\n",
    "ax2.set_title('Average Price by Day');\n",
    "\n",
    "week_data = data[['price', 'year_week']].groupby('year_week').mean().reset_index()\n",
    "ax3.plot(week_data['year_week'], week_data['price']);\n",
    "ax3.set_title('Average Price by Week')\n",
    "plt.xticks(rotation=90);"
   ]
  },
  {
   "cell_type": "markdown",
   "id": "61757f9b",
   "metadata": {},
   "source": [
    "Criando os filtros"
   ]
  },
  {
   "cell_type": "code",
   "execution_count": 95,
   "id": "abf70a96",
   "metadata": {},
   "outputs": [],
   "source": [
    "date_max = widgets.SelectionSlider(\n",
    "    options=data['date'].sort_values().tolist(),\n",
    "    value='2014-10-16',\n",
    "    description='max date',\n",
    "    disable=False, readout=True\n",
    ")\n",
    "\n",
    "waterfront_option = widgets.Checkbox(\n",
    "    value=False, description='waterfront',\n",
    "    disabled=False, indent=False\n",
    ")"
   ]
  },
  {
   "cell_type": "markdown",
   "id": "532e2d84",
   "metadata": {},
   "source": [
    "Criando a função"
   ]
  },
  {
   "cell_type": "code",
   "execution_count": 96,
   "id": "edb28cc0",
   "metadata": {},
   "outputs": [],
   "source": [
    "def update_map_dash(df, date, waterfront):\n",
    "    dash_data = df[(df['date'] <= date) &\n",
    "                  (df['waterfront'] == waterfront)]\n",
    "    \n",
    "    fig= plt.figure(figsize=(20, 12))\n",
    "    specs = gridspec.GridSpec(ncols=2, nrows=2, figure=fig)\n",
    "        \n",
    "    ax1 = fig.add_subplot(specs[0, :])\n",
    "    ax2 = fig.add_subplot(specs[1, 0])\n",
    "    ax3 = fig.add_subplot(specs[1, 1])\n",
    "    \n",
    "    year_data = dash_data[['price', 'year']].groupby('year').sum().reset_index()\n",
    "    ax1.bar(year_data['year'], year_data['price']);\n",
    "    ax1.set_title('Sum of Price by Year');\n",
    "    \n",
    "    day_data = dash_data[['price', 'date']].groupby('date').mean().reset_index()\n",
    "    ax2.plot(day_data['date'], day_data['price']);\n",
    "    ax2.set_title('Average Price by Day');\n",
    "    \n",
    "    week_data = dash_data[['price', 'year_week']].groupby('year_week').mean().reset_index()\n",
    "    ax3.plot(week_data['year_week'], week_data['price']);\n",
    "    ax3.set_title('Average Price by Week')\n",
    "    plt.xticks(rotation=90);"
   ]
  },
  {
   "cell_type": "markdown",
   "id": "ed689e83",
   "metadata": {},
   "source": [
    "Plotando o gráfico com os filtros"
   ]
  },
  {
   "cell_type": "code",
   "execution_count": 97,
   "id": "f55aa098",
   "metadata": {
    "scrolled": false
   },
   "outputs": [
    {
     "data": {
      "application/vnd.jupyter.widget-view+json": {
       "model_id": "6f26237e8e5d414bab2229ea1db5dbf2",
       "version_major": 2,
       "version_minor": 0
      },
      "text/plain": [
       "interactive(children=(SelectionSlider(description='max date', index=10750, options=('2014-05-02', '2014-05-02'…"
      ]
     },
     "metadata": {},
     "output_type": "display_data"
    }
   ],
   "source": [
    "widgets.interactive(update_map_dash, df=fixed(data), date=date_max,\n",
    "                   waterfront=waterfront_option)"
   ]
  }
 ],
 "metadata": {
  "kernelspec": {
   "display_name": "Python 3 (ipykernel)",
   "language": "python",
   "name": "python3"
  },
  "language_info": {
   "codemirror_mode": {
    "name": "ipython",
    "version": 3
   },
   "file_extension": ".py",
   "mimetype": "text/x-python",
   "name": "python",
   "nbconvert_exporter": "python",
   "pygments_lexer": "ipython3",
   "version": "3.8.12"
  }
 },
 "nbformat": 4,
 "nbformat_minor": 5
}
