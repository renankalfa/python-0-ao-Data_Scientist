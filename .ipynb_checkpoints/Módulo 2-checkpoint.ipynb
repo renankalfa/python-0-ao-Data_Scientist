{
 "cells": [
  {
   "cell_type": "markdown",
   "id": "abcc64b9",
   "metadata": {},
   "source": [
    "# Extração e Manipulação de Dados I"
   ]
  },
  {
   "cell_type": "markdown",
   "id": "933e84e4",
   "metadata": {},
   "source": [
    "## Novas perguntas/requisições do CEO\n",
    "\n",
    "1. Crie uma nova coluna chamada: “house_age”\n",
    "    - Se o valor da coluna “date” for maior que 2014-01-01 => ‘new_house’\n",
    "    - Se o valor da coluna “date” for menor que 2014-01-01 => ‘old_house’\n",
    "\n",
    "2. Crie uma nova coluna chamada: “dormitory_type”\n",
    "    - Se o valor da coluna “bedrooms” for igual à 1 => ‘studio’\n",
    "    - Se o valor da coluna “bedrooms” for igual a 2 => ‘apartament’\n",
    "    - Se o valor da coluna “bedrooms” for maior que 2 => ‘house’\n",
    "\n",
    "3. Crie uma nova coluna chamada: “condition_type”\n",
    "    - Se o valor da coluna “condition” for menor ou igual à 2 => ‘bad’\n",
    "    - Se o valor da coluna “condition” for igual à 3 ou 4 => ‘regular’\n",
    "    - Se o valor da coluna “condition” for igual à 5 => ‘good’\n",
    "\n",
    "\n",
    "4. Modifique o TIPO a Coluna “condition” para STRING\n",
    "\n",
    "\n",
    "5. Delete as colunas: “sqft_living15” e “sqft_lot15”\n",
    "\n",
    "\n",
    "6. Modifique o TIPO a Coluna “yr_build” para DATE\n",
    "\n",
    "\n",
    "7. Modifique o TIPO a Coluna “yr_renovated” para DATE\n",
    "\n",
    "\n",
    "8. Qual a data mais antiga de construção de um imóvel?\n",
    "\n",
    "\n",
    "9. Qual a data mais antiga de renovação de um imóvel?\n",
    "\n",
    "\n",
    "10. Quantos imóveis tem 2 andares?\n",
    "\n",
    "\n",
    "11. Quantos imóveis estão com a condição igual a “regular” ?\n",
    "\n",
    "\n",
    "12. Quantos imóveis estão com a condição igual a “bad”e possuem “vista para água” ?\n",
    "\n",
    "\n",
    "13. Quantos imóveis estão com a condição igual a “good” e são “new_house”?\n",
    "\n",
    "\n",
    "14. Qual o valor do imóvel mais caro do tipo “studio” ?\n",
    "\n",
    "\n",
    "15. Quantos imóveis do tipo “apartment” foram reformados em 2015 ?\n",
    "\n",
    "\n",
    "16. Qual o maior número de quartos que um imóveis do tipo “house” possui ?\n",
    "\n",
    "\n",
    "17. Quantos imóveis “new_house” foram reformados no ano de 2014?\n",
    "\n",
    "\n",
    "18. Selecione as colunas: “id”, “date”, “price”, “floors”, “zipcode” pelo método:\n",
    "    - Direto pelo nome das colunas.\n",
    "    - Pelos Índices.\n",
    "    - Pelos Índices das linhas e o nome das colunas\n",
    "    - Índices Booleanos\t\t\n",
    "    \n",
    "    \n",
    "19. Salve um arquivo .csv com somente as colunas do item 10 ao 17.\n",
    "\n",
    "\n",
    "20. Modifique a cor dos pontos no mapa de “pink” para “verde-escuro”"
   ]
  },
  {
   "cell_type": "markdown",
   "id": "e8fea66c",
   "metadata": {},
   "source": [
    "# Resolução"
   ]
  },
  {
   "cell_type": "markdown",
   "id": "130eb0a1",
   "metadata": {},
   "source": [
    "## Import Libraries"
   ]
  },
  {
   "cell_type": "code",
   "execution_count": 50,
   "id": "93030659",
   "metadata": {},
   "outputs": [],
   "source": [
    "import plotly.express as px\n",
    "import pandas as pd\n",
    "import numpy as np"
   ]
  },
  {
   "cell_type": "markdown",
   "id": "1fd91d08",
   "metadata": {},
   "source": [
    "## Loading Data"
   ]
  },
  {
   "cell_type": "code",
   "execution_count": 51,
   "id": "a7b6b160",
   "metadata": {},
   "outputs": [
    {
     "data": {
      "text/html": [
       "<div>\n",
       "<style scoped>\n",
       "    .dataframe tbody tr th:only-of-type {\n",
       "        vertical-align: middle;\n",
       "    }\n",
       "\n",
       "    .dataframe tbody tr th {\n",
       "        vertical-align: top;\n",
       "    }\n",
       "\n",
       "    .dataframe thead th {\n",
       "        text-align: right;\n",
       "    }\n",
       "</style>\n",
       "<table border=\"1\" class=\"dataframe\">\n",
       "  <thead>\n",
       "    <tr style=\"text-align: right;\">\n",
       "      <th></th>\n",
       "      <th>id</th>\n",
       "      <th>date</th>\n",
       "      <th>price</th>\n",
       "      <th>bedrooms</th>\n",
       "      <th>bathrooms</th>\n",
       "      <th>sqft_living</th>\n",
       "      <th>sqft_lot</th>\n",
       "      <th>floors</th>\n",
       "      <th>waterfront</th>\n",
       "      <th>view</th>\n",
       "      <th>...</th>\n",
       "      <th>grade</th>\n",
       "      <th>sqft_above</th>\n",
       "      <th>sqft_basement</th>\n",
       "      <th>yr_built</th>\n",
       "      <th>yr_renovated</th>\n",
       "      <th>zipcode</th>\n",
       "      <th>lat</th>\n",
       "      <th>long</th>\n",
       "      <th>sqft_living15</th>\n",
       "      <th>sqft_lot15</th>\n",
       "    </tr>\n",
       "  </thead>\n",
       "  <tbody>\n",
       "    <tr>\n",
       "      <th>0</th>\n",
       "      <td>7129300520</td>\n",
       "      <td>20141013T000000</td>\n",
       "      <td>221900.0</td>\n",
       "      <td>3</td>\n",
       "      <td>1.00</td>\n",
       "      <td>1180</td>\n",
       "      <td>5650</td>\n",
       "      <td>1.0</td>\n",
       "      <td>0</td>\n",
       "      <td>0</td>\n",
       "      <td>...</td>\n",
       "      <td>7</td>\n",
       "      <td>1180</td>\n",
       "      <td>0</td>\n",
       "      <td>1955</td>\n",
       "      <td>0</td>\n",
       "      <td>98178</td>\n",
       "      <td>47.5112</td>\n",
       "      <td>-122.257</td>\n",
       "      <td>1340</td>\n",
       "      <td>5650</td>\n",
       "    </tr>\n",
       "    <tr>\n",
       "      <th>1</th>\n",
       "      <td>6414100192</td>\n",
       "      <td>20141209T000000</td>\n",
       "      <td>538000.0</td>\n",
       "      <td>3</td>\n",
       "      <td>2.25</td>\n",
       "      <td>2570</td>\n",
       "      <td>7242</td>\n",
       "      <td>2.0</td>\n",
       "      <td>0</td>\n",
       "      <td>0</td>\n",
       "      <td>...</td>\n",
       "      <td>7</td>\n",
       "      <td>2170</td>\n",
       "      <td>400</td>\n",
       "      <td>1951</td>\n",
       "      <td>1991</td>\n",
       "      <td>98125</td>\n",
       "      <td>47.7210</td>\n",
       "      <td>-122.319</td>\n",
       "      <td>1690</td>\n",
       "      <td>7639</td>\n",
       "    </tr>\n",
       "  </tbody>\n",
       "</table>\n",
       "<p>2 rows × 21 columns</p>\n",
       "</div>"
      ],
      "text/plain": [
       "           id             date     price  bedrooms  bathrooms  sqft_living  \\\n",
       "0  7129300520  20141013T000000  221900.0         3       1.00         1180   \n",
       "1  6414100192  20141209T000000  538000.0         3       2.25         2570   \n",
       "\n",
       "   sqft_lot  floors  waterfront  view  ...  grade  sqft_above  sqft_basement  \\\n",
       "0      5650     1.0           0     0  ...      7        1180              0   \n",
       "1      7242     2.0           0     0  ...      7        2170            400   \n",
       "\n",
       "   yr_built  yr_renovated  zipcode      lat     long  sqft_living15  \\\n",
       "0      1955             0    98178  47.5112 -122.257           1340   \n",
       "1      1951          1991    98125  47.7210 -122.319           1690   \n",
       "\n",
       "   sqft_lot15  \n",
       "0        5650  \n",
       "1        7639  \n",
       "\n",
       "[2 rows x 21 columns]"
      ]
     },
     "execution_count": 51,
     "metadata": {},
     "output_type": "execute_result"
    }
   ],
   "source": [
    "data = pd.read_csv('datasets/kc_house_data.csv')\n",
    "data.head(2)"
   ]
  },
  {
   "cell_type": "markdown",
   "id": "8240650f",
   "metadata": {},
   "source": [
    "## 1. Crie uma nova coluna chamada: “house_age”\n",
    "- Se o valor da coluna “date” for maior que 2014-01-01 => ‘new_house’\n",
    "- Se o valor da coluna “date” for menor que 2014-01-01 => ‘old_house’"
   ]
  },
  {
   "cell_type": "markdown",
   "id": "6b0000a3",
   "metadata": {},
   "source": [
    "Antes, precisamos confirmar que a coluna date está no formato de data."
   ]
  },
  {
   "cell_type": "code",
   "execution_count": 52,
   "id": "340d8fe8",
   "metadata": {},
   "outputs": [
    {
     "data": {
      "text/plain": [
       "id               int64\n",
       "date    datetime64[ns]\n",
       "dtype: object"
      ]
     },
     "execution_count": 52,
     "metadata": {},
     "output_type": "execute_result"
    }
   ],
   "source": [
    "data['date'] = pd.to_datetime(data['date'], format='%Y-%m-%d')\n",
    "data.dtypes[[0, 1]]"
   ]
  },
  {
   "cell_type": "markdown",
   "id": "81cdbbe8",
   "metadata": {},
   "source": [
    "Criando uima coluna com base na data:"
   ]
  },
  {
   "cell_type": "code",
   "execution_count": 53,
   "id": "a33276b6",
   "metadata": {},
   "outputs": [],
   "source": [
    "data['house_age'] = 'Na'\n",
    "data.loc[data['date'] > '2014-01-01','house_age'] = 'new_house'\n",
    "data.loc[data['date'] < '2014-01-01','house_age'] = 'old_house'"
   ]
  },
  {
   "cell_type": "code",
   "execution_count": 54,
   "id": "94e172ed",
   "metadata": {},
   "outputs": [
    {
     "data": {
      "text/plain": [
       "array(['new_house'], dtype=object)"
      ]
     },
     "execution_count": 54,
     "metadata": {},
     "output_type": "execute_result"
    }
   ],
   "source": [
    "data['house_age'].unique()"
   ]
  },
  {
   "cell_type": "markdown",
   "id": "eb819921",
   "metadata": {},
   "source": [
    "## 2. Crie uma nova coluna chamada: “dormitory_type”\n",
    "- Se o valor da coluna “bedrooms” for igual à 1 => ‘studio’\n",
    "- Se o valor da coluna “bedrooms” for igual a 2 => ‘apartament’\n",
    "- Se o valor da coluna “bedrooms” for maior que 2 => ‘house’"
   ]
  },
  {
   "cell_type": "code",
   "execution_count": 55,
   "id": "97701781",
   "metadata": {},
   "outputs": [],
   "source": [
    "data['dormitory_type'] = 'Na'\n",
    "data.loc[data['bedrooms'] == 1, 'dormitory_type'] = 'studio'\n",
    "data.loc[data['bedrooms'] == 2, 'dormitory_type'] = 'apartament'\n",
    "data.loc[data['bedrooms'] > 2, 'dormitory_type'] = 'house'"
   ]
  },
  {
   "cell_type": "code",
   "execution_count": 56,
   "id": "c739d16a",
   "metadata": {},
   "outputs": [
    {
     "data": {
      "text/html": [
       "<div>\n",
       "<style scoped>\n",
       "    .dataframe tbody tr th:only-of-type {\n",
       "        vertical-align: middle;\n",
       "    }\n",
       "\n",
       "    .dataframe tbody tr th {\n",
       "        vertical-align: top;\n",
       "    }\n",
       "\n",
       "    .dataframe thead th {\n",
       "        text-align: right;\n",
       "    }\n",
       "</style>\n",
       "<table border=\"1\" class=\"dataframe\">\n",
       "  <thead>\n",
       "    <tr style=\"text-align: right;\">\n",
       "      <th></th>\n",
       "      <th>id</th>\n",
       "      <th>date</th>\n",
       "      <th>price</th>\n",
       "      <th>bedrooms</th>\n",
       "      <th>bathrooms</th>\n",
       "      <th>sqft_living</th>\n",
       "      <th>sqft_lot</th>\n",
       "      <th>floors</th>\n",
       "      <th>waterfront</th>\n",
       "      <th>view</th>\n",
       "      <th>...</th>\n",
       "      <th>sqft_basement</th>\n",
       "      <th>yr_built</th>\n",
       "      <th>yr_renovated</th>\n",
       "      <th>zipcode</th>\n",
       "      <th>lat</th>\n",
       "      <th>long</th>\n",
       "      <th>sqft_living15</th>\n",
       "      <th>sqft_lot15</th>\n",
       "      <th>house_age</th>\n",
       "      <th>dormitory_type</th>\n",
       "    </tr>\n",
       "  </thead>\n",
       "  <tbody>\n",
       "    <tr>\n",
       "      <th>0</th>\n",
       "      <td>7129300520</td>\n",
       "      <td>2014-10-13</td>\n",
       "      <td>221900.0</td>\n",
       "      <td>3</td>\n",
       "      <td>1.00</td>\n",
       "      <td>1180</td>\n",
       "      <td>5650</td>\n",
       "      <td>1.0</td>\n",
       "      <td>0</td>\n",
       "      <td>0</td>\n",
       "      <td>...</td>\n",
       "      <td>0</td>\n",
       "      <td>1955</td>\n",
       "      <td>0</td>\n",
       "      <td>98178</td>\n",
       "      <td>47.5112</td>\n",
       "      <td>-122.257</td>\n",
       "      <td>1340</td>\n",
       "      <td>5650</td>\n",
       "      <td>new_house</td>\n",
       "      <td>house</td>\n",
       "    </tr>\n",
       "    <tr>\n",
       "      <th>1</th>\n",
       "      <td>6414100192</td>\n",
       "      <td>2014-12-09</td>\n",
       "      <td>538000.0</td>\n",
       "      <td>3</td>\n",
       "      <td>2.25</td>\n",
       "      <td>2570</td>\n",
       "      <td>7242</td>\n",
       "      <td>2.0</td>\n",
       "      <td>0</td>\n",
       "      <td>0</td>\n",
       "      <td>...</td>\n",
       "      <td>400</td>\n",
       "      <td>1951</td>\n",
       "      <td>1991</td>\n",
       "      <td>98125</td>\n",
       "      <td>47.7210</td>\n",
       "      <td>-122.319</td>\n",
       "      <td>1690</td>\n",
       "      <td>7639</td>\n",
       "      <td>new_house</td>\n",
       "      <td>house</td>\n",
       "    </tr>\n",
       "  </tbody>\n",
       "</table>\n",
       "<p>2 rows × 23 columns</p>\n",
       "</div>"
      ],
      "text/plain": [
       "           id       date     price  bedrooms  bathrooms  sqft_living  \\\n",
       "0  7129300520 2014-10-13  221900.0         3       1.00         1180   \n",
       "1  6414100192 2014-12-09  538000.0         3       2.25         2570   \n",
       "\n",
       "   sqft_lot  floors  waterfront  view  ...  sqft_basement  yr_built  \\\n",
       "0      5650     1.0           0     0  ...              0      1955   \n",
       "1      7242     2.0           0     0  ...            400      1951   \n",
       "\n",
       "   yr_renovated  zipcode      lat     long  sqft_living15  sqft_lot15  \\\n",
       "0             0    98178  47.5112 -122.257           1340        5650   \n",
       "1          1991    98125  47.7210 -122.319           1690        7639   \n",
       "\n",
       "   house_age  dormitory_type  \n",
       "0  new_house           house  \n",
       "1  new_house           house  \n",
       "\n",
       "[2 rows x 23 columns]"
      ]
     },
     "execution_count": 56,
     "metadata": {},
     "output_type": "execute_result"
    }
   ],
   "source": [
    "data.head(2)"
   ]
  },
  {
   "cell_type": "markdown",
   "id": "d48023a0",
   "metadata": {},
   "source": [
    "## 3. Crie uma nova coluna chamada: “condition_type”\n",
    "- Se o valor da coluna “condition” for menor ou igual à 2 => ‘bad’\n",
    "- Se o valor da coluna “condition” for igual à 3 ou 4 => ‘regular’\n",
    "- Se o valor da coluna “condition” for igual à 5 => ‘good’"
   ]
  },
  {
   "cell_type": "code",
   "execution_count": 57,
   "id": "d768ef77",
   "metadata": {},
   "outputs": [],
   "source": [
    "# data['condition_type'] = 'Na'\n",
    "# data.loc[data['condition'] <= 2, 'condition_type'] = 'bad'\n",
    "# data.loc[(data['condition'] == 3) | (data['condition'] == 4), 'condition_type'] = 'regular'\n",
    "# data.loc[data['condition'] == 5, 'condition_type'] = 'good'"
   ]
  },
  {
   "cell_type": "code",
   "execution_count": 58,
   "id": "16f572a2",
   "metadata": {},
   "outputs": [],
   "source": [
    "data['condition'] = data['condition'].astype(int)"
   ]
  },
  {
   "cell_type": "code",
   "execution_count": 59,
   "id": "138f730d",
   "metadata": {},
   "outputs": [],
   "source": [
    "data['condition_type'] = data['condition'].apply( lambda x: 'bad' if x <= 2 else 'regular' if (x == 3) | (x == 4) else 'good')"
   ]
  },
  {
   "cell_type": "code",
   "execution_count": 60,
   "id": "988663af",
   "metadata": {},
   "outputs": [
    {
     "data": {
      "text/plain": [
       "array(['regular', 'good', 'bad'], dtype=object)"
      ]
     },
     "execution_count": 60,
     "metadata": {},
     "output_type": "execute_result"
    }
   ],
   "source": [
    "data['condition_type'].unique()"
   ]
  },
  {
   "cell_type": "markdown",
   "id": "ae399935",
   "metadata": {},
   "source": [
    "## 4. Modifique o TIPO a Coluna “condition” para STRING"
   ]
  },
  {
   "cell_type": "code",
   "execution_count": 61,
   "id": "e0746a1a",
   "metadata": {},
   "outputs": [],
   "source": [
    "data['condition'] = data['condition'].astype(str)"
   ]
  },
  {
   "cell_type": "code",
   "execution_count": 62,
   "id": "7ebd351b",
   "metadata": {},
   "outputs": [
    {
     "data": {
      "text/plain": [
       "id                 int64\n",
       "condition         object\n",
       "condition_type    object\n",
       "dtype: object"
      ]
     },
     "execution_count": 62,
     "metadata": {},
     "output_type": "execute_result"
    }
   ],
   "source": [
    "data[['id', 'condition', 'condition_type']].dtypes"
   ]
  },
  {
   "cell_type": "markdown",
   "id": "0ab48c1e",
   "metadata": {},
   "source": [
    "## 5. Delete as colunas: “sqft_living15” e “sqft_lot15”"
   ]
  },
  {
   "cell_type": "code",
   "execution_count": 63,
   "id": "74a7c86a",
   "metadata": {},
   "outputs": [],
   "source": [
    "data = data.drop(['sqft_living15', 'sqft_lot15'], axis=1)"
   ]
  },
  {
   "cell_type": "markdown",
   "id": "5cb17488",
   "metadata": {},
   "source": [
    "## 6. Modifique o TIPO a Coluna “yr_build” para DATE"
   ]
  },
  {
   "cell_type": "code",
   "execution_count": 64,
   "id": "e29576d3",
   "metadata": {},
   "outputs": [],
   "source": [
    "data['yr_built'] = pd.to_datetime(data['yr_built'], format='%Y')"
   ]
  },
  {
   "cell_type": "code",
   "execution_count": 65,
   "id": "614d57dd",
   "metadata": {
    "scrolled": true
   },
   "outputs": [
    {
     "data": {
      "text/html": [
       "<div>\n",
       "<style scoped>\n",
       "    .dataframe tbody tr th:only-of-type {\n",
       "        vertical-align: middle;\n",
       "    }\n",
       "\n",
       "    .dataframe tbody tr th {\n",
       "        vertical-align: top;\n",
       "    }\n",
       "\n",
       "    .dataframe thead th {\n",
       "        text-align: right;\n",
       "    }\n",
       "</style>\n",
       "<table border=\"1\" class=\"dataframe\">\n",
       "  <thead>\n",
       "    <tr style=\"text-align: right;\">\n",
       "      <th></th>\n",
       "      <th>id</th>\n",
       "      <th>date</th>\n",
       "      <th>price</th>\n",
       "      <th>bedrooms</th>\n",
       "      <th>bathrooms</th>\n",
       "      <th>sqft_living</th>\n",
       "      <th>sqft_lot</th>\n",
       "      <th>floors</th>\n",
       "      <th>waterfront</th>\n",
       "      <th>view</th>\n",
       "      <th>...</th>\n",
       "      <th>sqft_above</th>\n",
       "      <th>sqft_basement</th>\n",
       "      <th>yr_built</th>\n",
       "      <th>yr_renovated</th>\n",
       "      <th>zipcode</th>\n",
       "      <th>lat</th>\n",
       "      <th>long</th>\n",
       "      <th>house_age</th>\n",
       "      <th>dormitory_type</th>\n",
       "      <th>condition_type</th>\n",
       "    </tr>\n",
       "  </thead>\n",
       "  <tbody>\n",
       "    <tr>\n",
       "      <th>0</th>\n",
       "      <td>7129300520</td>\n",
       "      <td>2014-10-13</td>\n",
       "      <td>221900.0</td>\n",
       "      <td>3</td>\n",
       "      <td>1.00</td>\n",
       "      <td>1180</td>\n",
       "      <td>5650</td>\n",
       "      <td>1.0</td>\n",
       "      <td>0</td>\n",
       "      <td>0</td>\n",
       "      <td>...</td>\n",
       "      <td>1180</td>\n",
       "      <td>0</td>\n",
       "      <td>1955-01-01</td>\n",
       "      <td>0</td>\n",
       "      <td>98178</td>\n",
       "      <td>47.5112</td>\n",
       "      <td>-122.257</td>\n",
       "      <td>new_house</td>\n",
       "      <td>house</td>\n",
       "      <td>regular</td>\n",
       "    </tr>\n",
       "    <tr>\n",
       "      <th>1</th>\n",
       "      <td>6414100192</td>\n",
       "      <td>2014-12-09</td>\n",
       "      <td>538000.0</td>\n",
       "      <td>3</td>\n",
       "      <td>2.25</td>\n",
       "      <td>2570</td>\n",
       "      <td>7242</td>\n",
       "      <td>2.0</td>\n",
       "      <td>0</td>\n",
       "      <td>0</td>\n",
       "      <td>...</td>\n",
       "      <td>2170</td>\n",
       "      <td>400</td>\n",
       "      <td>1951-01-01</td>\n",
       "      <td>1991</td>\n",
       "      <td>98125</td>\n",
       "      <td>47.7210</td>\n",
       "      <td>-122.319</td>\n",
       "      <td>new_house</td>\n",
       "      <td>house</td>\n",
       "      <td>regular</td>\n",
       "    </tr>\n",
       "  </tbody>\n",
       "</table>\n",
       "<p>2 rows × 22 columns</p>\n",
       "</div>"
      ],
      "text/plain": [
       "           id       date     price  bedrooms  bathrooms  sqft_living  \\\n",
       "0  7129300520 2014-10-13  221900.0         3       1.00         1180   \n",
       "1  6414100192 2014-12-09  538000.0         3       2.25         2570   \n",
       "\n",
       "   sqft_lot  floors  waterfront  view  ... sqft_above  sqft_basement  \\\n",
       "0      5650     1.0           0     0  ...       1180              0   \n",
       "1      7242     2.0           0     0  ...       2170            400   \n",
       "\n",
       "    yr_built  yr_renovated zipcode      lat     long  house_age  \\\n",
       "0 1955-01-01             0   98178  47.5112 -122.257  new_house   \n",
       "1 1951-01-01          1991   98125  47.7210 -122.319  new_house   \n",
       "\n",
       "   dormitory_type condition_type  \n",
       "0           house        regular  \n",
       "1           house        regular  \n",
       "\n",
       "[2 rows x 22 columns]"
      ]
     },
     "execution_count": 65,
     "metadata": {},
     "output_type": "execute_result"
    }
   ],
   "source": [
    "data.head(2)"
   ]
  },
  {
   "cell_type": "markdown",
   "id": "fa37f401",
   "metadata": {},
   "source": [
    "## 7. Modifique o TIPO a Coluna “yr_renovated” para DATE"
   ]
  },
  {
   "cell_type": "code",
   "execution_count": 66,
   "id": "f2ee594d",
   "metadata": {},
   "outputs": [],
   "source": [
    "data['yr_renovated'] = data['yr_renovated'].apply(lambda x: pd.to_datetime(x, format='%Y') if x > 0 else pd.to_datetime('1900-01-1'))"
   ]
  },
  {
   "cell_type": "code",
   "execution_count": 67,
   "id": "7e837802",
   "metadata": {
    "scrolled": true
   },
   "outputs": [
    {
     "data": {
      "text/html": [
       "<div>\n",
       "<style scoped>\n",
       "    .dataframe tbody tr th:only-of-type {\n",
       "        vertical-align: middle;\n",
       "    }\n",
       "\n",
       "    .dataframe tbody tr th {\n",
       "        vertical-align: top;\n",
       "    }\n",
       "\n",
       "    .dataframe thead th {\n",
       "        text-align: right;\n",
       "    }\n",
       "</style>\n",
       "<table border=\"1\" class=\"dataframe\">\n",
       "  <thead>\n",
       "    <tr style=\"text-align: right;\">\n",
       "      <th></th>\n",
       "      <th>id</th>\n",
       "      <th>date</th>\n",
       "      <th>price</th>\n",
       "      <th>bedrooms</th>\n",
       "      <th>bathrooms</th>\n",
       "      <th>sqft_living</th>\n",
       "      <th>sqft_lot</th>\n",
       "      <th>floors</th>\n",
       "      <th>waterfront</th>\n",
       "      <th>view</th>\n",
       "      <th>...</th>\n",
       "      <th>sqft_above</th>\n",
       "      <th>sqft_basement</th>\n",
       "      <th>yr_built</th>\n",
       "      <th>yr_renovated</th>\n",
       "      <th>zipcode</th>\n",
       "      <th>lat</th>\n",
       "      <th>long</th>\n",
       "      <th>house_age</th>\n",
       "      <th>dormitory_type</th>\n",
       "      <th>condition_type</th>\n",
       "    </tr>\n",
       "  </thead>\n",
       "  <tbody>\n",
       "    <tr>\n",
       "      <th>0</th>\n",
       "      <td>7129300520</td>\n",
       "      <td>2014-10-13</td>\n",
       "      <td>221900.0</td>\n",
       "      <td>3</td>\n",
       "      <td>1.00</td>\n",
       "      <td>1180</td>\n",
       "      <td>5650</td>\n",
       "      <td>1.0</td>\n",
       "      <td>0</td>\n",
       "      <td>0</td>\n",
       "      <td>...</td>\n",
       "      <td>1180</td>\n",
       "      <td>0</td>\n",
       "      <td>1955-01-01</td>\n",
       "      <td>1900-01-01</td>\n",
       "      <td>98178</td>\n",
       "      <td>47.5112</td>\n",
       "      <td>-122.257</td>\n",
       "      <td>new_house</td>\n",
       "      <td>house</td>\n",
       "      <td>regular</td>\n",
       "    </tr>\n",
       "    <tr>\n",
       "      <th>1</th>\n",
       "      <td>6414100192</td>\n",
       "      <td>2014-12-09</td>\n",
       "      <td>538000.0</td>\n",
       "      <td>3</td>\n",
       "      <td>2.25</td>\n",
       "      <td>2570</td>\n",
       "      <td>7242</td>\n",
       "      <td>2.0</td>\n",
       "      <td>0</td>\n",
       "      <td>0</td>\n",
       "      <td>...</td>\n",
       "      <td>2170</td>\n",
       "      <td>400</td>\n",
       "      <td>1951-01-01</td>\n",
       "      <td>1991-01-01</td>\n",
       "      <td>98125</td>\n",
       "      <td>47.7210</td>\n",
       "      <td>-122.319</td>\n",
       "      <td>new_house</td>\n",
       "      <td>house</td>\n",
       "      <td>regular</td>\n",
       "    </tr>\n",
       "  </tbody>\n",
       "</table>\n",
       "<p>2 rows × 22 columns</p>\n",
       "</div>"
      ],
      "text/plain": [
       "           id       date     price  bedrooms  bathrooms  sqft_living  \\\n",
       "0  7129300520 2014-10-13  221900.0         3       1.00         1180   \n",
       "1  6414100192 2014-12-09  538000.0         3       2.25         2570   \n",
       "\n",
       "   sqft_lot  floors  waterfront  view  ... sqft_above  sqft_basement  \\\n",
       "0      5650     1.0           0     0  ...       1180              0   \n",
       "1      7242     2.0           0     0  ...       2170            400   \n",
       "\n",
       "    yr_built  yr_renovated zipcode      lat     long  house_age  \\\n",
       "0 1955-01-01    1900-01-01   98178  47.5112 -122.257  new_house   \n",
       "1 1951-01-01    1991-01-01   98125  47.7210 -122.319  new_house   \n",
       "\n",
       "   dormitory_type condition_type  \n",
       "0           house        regular  \n",
       "1           house        regular  \n",
       "\n",
       "[2 rows x 22 columns]"
      ]
     },
     "execution_count": 67,
     "metadata": {},
     "output_type": "execute_result"
    }
   ],
   "source": [
    "data.head(2)"
   ]
  },
  {
   "cell_type": "markdown",
   "id": "bfdf38c0",
   "metadata": {},
   "source": [
    "## 8. Qual a data mais antiga de construção de um imóvel?"
   ]
  },
  {
   "cell_type": "code",
   "execution_count": 68,
   "id": "a9660655",
   "metadata": {},
   "outputs": [
    {
     "name": "stdout",
     "output_type": "stream",
     "text": [
      "A casa mais antiga foi construída no ano de 1900.\n"
     ]
    }
   ],
   "source": [
    "min_date = data['yr_built'].min().year\n",
    "print(f'A casa mais antiga foi construída no ano de {min_date}.')"
   ]
  },
  {
   "cell_type": "markdown",
   "id": "64641a00",
   "metadata": {},
   "source": [
    "## 9. Qual a data mais antiga de renovação de um imóvel?"
   ]
  },
  {
   "cell_type": "code",
   "execution_count": 76,
   "id": "9b693e92",
   "metadata": {},
   "outputs": [
    {
     "name": "stdout",
     "output_type": "stream",
     "text": [
      "O ano mais antigo de renovação foi em 1934.\n"
     ]
    }
   ],
   "source": [
    "old_renovated = data[data['yr_renovated'] > '1900-01-01']['yr_renovated']\n",
    "print(f'O ano mais antigo de renovação foi em {old_renovated.min().year}.')"
   ]
  },
  {
   "cell_type": "markdown",
   "id": "e00ae2e9",
   "metadata": {},
   "source": [
    "## 10. Quantos imóveis tem 2 andares?"
   ]
  },
  {
   "cell_type": "code",
   "execution_count": 80,
   "id": "5f1eff29",
   "metadata": {},
   "outputs": [
    {
     "name": "stdout",
     "output_type": "stream",
     "text": [
      "Number of houses with two floors: 8209.\n"
     ]
    }
   ],
   "source": [
    "two_floors = len(data[data['floors'] == 2]['id'].unique())\n",
    "print(f'Number of houses with two floors: {two_floors}.')"
   ]
  },
  {
   "cell_type": "code",
   "execution_count": 81,
   "id": "72f25890",
   "metadata": {
    "scrolled": false
   },
   "outputs": [
    {
     "name": "stdout",
     "output_type": "stream",
     "text": [
      "Number of houses with two floors: 8241.\n"
     ]
    }
   ],
   "source": [
    "two_floors = len(data[data['floors'] == 2])\n",
    "print(f'Number of houses with two floors: {two_floors}.')"
   ]
  },
  {
   "cell_type": "markdown",
   "id": "2f5afea0",
   "metadata": {},
   "source": [
    "## 11. Quantos imóveis estão com a condição igual a “regular” ?"
   ]
  },
  {
   "cell_type": "code",
   "execution_count": 82,
   "id": "31871472",
   "metadata": {
    "scrolled": true
   },
   "outputs": [
    {
     "name": "stdout",
     "output_type": "stream",
     "text": [
      "Number of regular houses: 19710.\n"
     ]
    }
   ],
   "source": [
    "regular_houses = len(data[data['condition_type'] == 'regular'])\n",
    "print(f'Number of regular houses: {regular_houses}.')"
   ]
  },
  {
   "cell_type": "code",
   "execution_count": 83,
   "id": "f9ef0aa0",
   "metadata": {},
   "outputs": [
    {
     "name": "stdout",
     "output_type": "stream",
     "text": [
      "Number of regular houses: 19556.\n"
     ]
    }
   ],
   "source": [
    "regular_houses = len(data[data['condition_type'] == 'regular']['id'].unique())\n",
    "print(f'Number of regular houses: {regular_houses}.')"
   ]
  },
  {
   "cell_type": "markdown",
   "id": "672bdd36",
   "metadata": {},
   "source": [
    "## 19. Salve um arquivo .csv com somente as colunas do item 10 ao 17."
   ]
  },
  {
   "cell_type": "code",
   "execution_count": 85,
   "id": "5bdec97e",
   "metadata": {},
   "outputs": [],
   "source": [
    "data[['house_age', 'dormitory_type', 'condition_type']].to_csv('new_attributes.csv')"
   ]
  }
 ],
 "metadata": {
  "kernelspec": {
   "display_name": "Python 3 (ipykernel)",
   "language": "python",
   "name": "python3"
  },
  "language_info": {
   "codemirror_mode": {
    "name": "ipython",
    "version": 3
   },
   "file_extension": ".py",
   "mimetype": "text/x-python",
   "name": "python",
   "nbconvert_exporter": "python",
   "pygments_lexer": "ipython3",
   "version": "3.8.12"
  }
 },
 "nbformat": 4,
 "nbformat_minor": 5
}
