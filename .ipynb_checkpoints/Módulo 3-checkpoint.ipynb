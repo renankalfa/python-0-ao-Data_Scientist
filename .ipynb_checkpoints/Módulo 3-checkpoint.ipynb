{
 "cells": [
  {
   "cell_type": "markdown",
   "id": "9ffe0bd0",
   "metadata": {},
   "source": [
    "# Estruturas de dados - Módulo 3"
   ]
  },
  {
   "cell_type": "markdown",
   "id": "f8e6b53d",
   "metadata": {},
   "source": [
    "## Novas perguntas do CEO\n",
    "\n",
    "1. Crie uma nova coluna chamada: “dormitory_type”\n",
    "    - Se o valor da coluna “bedrooms” for igual à 1 => ‘studio’\n",
    "    - Se o valor da coluna “bedrooms” for igual a 2 => ‘apartament’\n",
    "    - Se o valor da coluna “bedrooms” for maior que 2 => ‘house’\n",
    "\n",
    "\n",
    "2. Faça um gráfico de barras que represente a soma dos preços pelo número de quartos.\n",
    "\n",
    "\n",
    "3. Faça um gráfico de linhas que represente a média dos preços pelo ano construção dos imóveis.\n",
    "\n",
    "\n",
    "4. Faça um gráfico de barras que represente a média dos preços pelo tipo dos dormitórios.\n",
    "\n",
    "\n",
    "5. Faça um gráfico de linha que mostre a evolução da média dos preços pelo ano da reforma dos \n",
    "imóveis, a partir do ano de 1930.\n",
    "\n",
    "\n",
    "6. Faça um tabela que mostre a média dos preços por ano de construção e tipo de dormitórios dos \n",
    "imóveis.\n",
    "\n",
    "\n",
    "7. Crie um Dashboard com os gráficos das questões 02, 03, 04 ( Dashboard: 1 Linha e 2 colunas )\n",
    "\n",
    "\n",
    "8. Crie um Dashboard com os gráficos das perguntas 02, 04 ( Dashboard: 2 colunas )\n",
    "\n",
    "\n",
    "9. Crie um Dashboard com os gráficos das perguntas 03, 05 ( Dashboard: 2 Linhas )\n",
    "\n",
    "\n",
    "10. Faça um gráfico com o tamanho dos pontos sendo igual ao tamanho da sala de estar"
   ]
  },
  {
   "cell_type": "markdown",
   "id": "943a3337",
   "metadata": {},
   "source": [
    "# Resolução"
   ]
  },
  {
   "cell_type": "markdown",
   "id": "c8fc3e4d",
   "metadata": {},
   "source": [
    "## Import Libraries and Supress Scientific Notation"
   ]
  },
  {
   "cell_type": "code",
   "execution_count": 35,
   "id": "4c0e17e8",
   "metadata": {},
   "outputs": [],
   "source": [
    "import seaborn as sns\n",
    "import pandas as pd\n",
    "import numpy as np\n",
    "\n",
    "import matplotlib.pyplot as plt\n",
    "import plotly.express as px"
   ]
  },
  {
   "cell_type": "code",
   "execution_count": 9,
   "id": "2791a28d",
   "metadata": {},
   "outputs": [],
   "source": [
    "np.set_printoptions(suppress=True)\n",
    "pd.set_option('display.float_format', '{:.2f}'.format)"
   ]
  },
  {
   "cell_type": "markdown",
   "id": "98f78722",
   "metadata": {},
   "source": [
    "## Loading Data"
   ]
  },
  {
   "cell_type": "code",
   "execution_count": 17,
   "id": "b0598d93",
   "metadata": {},
   "outputs": [],
   "source": [
    "data = pd.read_csv('datasets/kc_house_data.csv')"
   ]
  },
  {
   "cell_type": "markdown",
   "id": "b0301178",
   "metadata": {},
   "source": [
    "## Preparing Data"
   ]
  },
  {
   "cell_type": "code",
   "execution_count": 26,
   "id": "08a8239a",
   "metadata": {
    "scrolled": true
   },
   "outputs": [
    {
     "data": {
      "text/html": [
       "<div>\n",
       "<style scoped>\n",
       "    .dataframe tbody tr th:only-of-type {\n",
       "        vertical-align: middle;\n",
       "    }\n",
       "\n",
       "    .dataframe tbody tr th {\n",
       "        vertical-align: top;\n",
       "    }\n",
       "\n",
       "    .dataframe thead th {\n",
       "        text-align: right;\n",
       "    }\n",
       "</style>\n",
       "<table border=\"1\" class=\"dataframe\">\n",
       "  <thead>\n",
       "    <tr style=\"text-align: right;\">\n",
       "      <th></th>\n",
       "      <th>id</th>\n",
       "      <th>date</th>\n",
       "      <th>price</th>\n",
       "      <th>bedrooms</th>\n",
       "      <th>bathrooms</th>\n",
       "      <th>sqft_living</th>\n",
       "      <th>sqft_lot</th>\n",
       "      <th>floors</th>\n",
       "      <th>waterfront</th>\n",
       "      <th>view</th>\n",
       "      <th>...</th>\n",
       "      <th>grade</th>\n",
       "      <th>sqft_above</th>\n",
       "      <th>sqft_basement</th>\n",
       "      <th>yr_built</th>\n",
       "      <th>yr_renovated</th>\n",
       "      <th>zipcode</th>\n",
       "      <th>lat</th>\n",
       "      <th>long</th>\n",
       "      <th>sqft_living15</th>\n",
       "      <th>sqft_lot15</th>\n",
       "    </tr>\n",
       "  </thead>\n",
       "  <tbody>\n",
       "    <tr>\n",
       "      <th>0</th>\n",
       "      <td>7129300520</td>\n",
       "      <td>2014-10-13</td>\n",
       "      <td>221900.00</td>\n",
       "      <td>3</td>\n",
       "      <td>1.00</td>\n",
       "      <td>1180</td>\n",
       "      <td>5650</td>\n",
       "      <td>1.00</td>\n",
       "      <td>0</td>\n",
       "      <td>0</td>\n",
       "      <td>...</td>\n",
       "      <td>7</td>\n",
       "      <td>1180</td>\n",
       "      <td>0</td>\n",
       "      <td>1955</td>\n",
       "      <td>0</td>\n",
       "      <td>98178</td>\n",
       "      <td>47.51</td>\n",
       "      <td>-122.26</td>\n",
       "      <td>1340</td>\n",
       "      <td>5650</td>\n",
       "    </tr>\n",
       "    <tr>\n",
       "      <th>1</th>\n",
       "      <td>6414100192</td>\n",
       "      <td>2014-12-09</td>\n",
       "      <td>538000.00</td>\n",
       "      <td>3</td>\n",
       "      <td>2.25</td>\n",
       "      <td>2570</td>\n",
       "      <td>7242</td>\n",
       "      <td>2.00</td>\n",
       "      <td>0</td>\n",
       "      <td>0</td>\n",
       "      <td>...</td>\n",
       "      <td>7</td>\n",
       "      <td>2170</td>\n",
       "      <td>400</td>\n",
       "      <td>1951</td>\n",
       "      <td>1991</td>\n",
       "      <td>98125</td>\n",
       "      <td>47.72</td>\n",
       "      <td>-122.32</td>\n",
       "      <td>1690</td>\n",
       "      <td>7639</td>\n",
       "    </tr>\n",
       "  </tbody>\n",
       "</table>\n",
       "<p>2 rows × 21 columns</p>\n",
       "</div>"
      ],
      "text/plain": [
       "           id       date     price  bedrooms  bathrooms  sqft_living  \\\n",
       "0  7129300520 2014-10-13 221900.00         3       1.00         1180   \n",
       "1  6414100192 2014-12-09 538000.00         3       2.25         2570   \n",
       "\n",
       "   sqft_lot  floors  waterfront  view  ...  grade  sqft_above  sqft_basement  \\\n",
       "0      5650    1.00           0     0  ...      7        1180              0   \n",
       "1      7242    2.00           0     0  ...      7        2170            400   \n",
       "\n",
       "   yr_built  yr_renovated  zipcode   lat    long  sqft_living15  sqft_lot15  \n",
       "0      1955             0    98178 47.51 -122.26           1340        5650  \n",
       "1      1951          1991    98125 47.72 -122.32           1690        7639  \n",
       "\n",
       "[2 rows x 21 columns]"
      ]
     },
     "execution_count": 26,
     "metadata": {},
     "output_type": "execute_result"
    }
   ],
   "source": [
    "data.head(2)"
   ]
  },
  {
   "cell_type": "code",
   "execution_count": 24,
   "id": "35a33900",
   "metadata": {},
   "outputs": [],
   "source": [
    "data['date'] = pd.to_datetime(data['date'], format='%Y-%m-%d')"
   ]
  },
  {
   "cell_type": "code",
   "execution_count": 25,
   "id": "b8ef5b3d",
   "metadata": {},
   "outputs": [
    {
     "data": {
      "text/plain": [
       "id               int64\n",
       "date    datetime64[ns]\n",
       "dtype: object"
      ]
     },
     "execution_count": 25,
     "metadata": {},
     "output_type": "execute_result"
    }
   ],
   "source": [
    "data.dtypes[[0, 1]]"
   ]
  },
  {
   "cell_type": "markdown",
   "id": "c0e31506",
   "metadata": {},
   "source": [
    "## 1. Crie uma nova coluna chamada: “dormitory_type”.\n",
    "    - Se o valor da coluna “bedrooms” for igual à 1 => ‘studio’\n",
    "    - Se o valor da coluna “bedrooms” for igual a 2 => ‘apartament’\n",
    "    - Se o valor da coluna “bedrooms” for maior que 2 => ‘house’"
   ]
  },
  {
   "cell_type": "code",
   "execution_count": 28,
   "id": "965e88cc",
   "metadata": {},
   "outputs": [],
   "source": [
    "data['dormitory_type'] = data['bedrooms'].apply(lambda x: 'studio' if x == 1 else 'apartament' if x == 2 else 'house' )"
   ]
  },
  {
   "cell_type": "code",
   "execution_count": 31,
   "id": "f0ce7bc7",
   "metadata": {},
   "outputs": [
    {
     "data": {
      "text/plain": [
       "array(['house', 'apartament', 'studio'], dtype=object)"
      ]
     },
     "execution_count": 31,
     "metadata": {},
     "output_type": "execute_result"
    }
   ],
   "source": [
    "data['dormitory_type'].unique()"
   ]
  },
  {
   "cell_type": "markdown",
   "id": "a5f3ce1b",
   "metadata": {},
   "source": [
    "## 2. Faça um gráfico de barras que represente a soma dos preços pelo número de quartos."
   ]
  },
  {
   "cell_type": "code",
   "execution_count": 40,
   "id": "ef36d0ec",
   "metadata": {},
   "outputs": [
    {
     "data": {
      "image/png": "[encoded data removed]",
      "text/plain": [
       "<Figure size 1440x720 with 1 Axes>"
      ]
     },
     "metadata": {
      "needs_background": "light"
     },
     "output_type": "display_data"
    }
   ],
   "source": [
    "# x -> número de quartos\n",
    "# y -> soma dos preços\n",
    "plt.figure(figsize=(20, 10))\n",
    "d2 = data[['price', 'bedrooms']].groupby('bedrooms').sum().reset_index()\n",
    "sns.barplot(x=d2['bedrooms'], y=d2['price']);"
   ]
  },
  {
   "cell_type": "markdown",
   "id": "0a0ae140",
   "metadata": {},
   "source": [
    "## 3. Faça um gráfico de linhas que represente a média dos preços pelo ano construção dos imóveis."
   ]
  },
  {
   "cell_type": "code",
   "execution_count": null,
   "id": "9b73368a",
   "metadata": {},
   "outputs": [],
   "source": []
  }
 ],
 "metadata": {
  "kernelspec": {
   "display_name": "Python 3 (ipykernel)",
   "language": "python",
   "name": "python3"
  },
  "language_info": {
   "codemirror_mode": {
    "name": "ipython",
    "version": 3
   },
   "file_extension": ".py",
   "mimetype": "text/x-python",
   "name": "python",
   "nbconvert_exporter": "python",
   "pygments_lexer": "ipython3",
   "version": "3.8.12"
  }
 },
 "nbformat": 4,
 "nbformat_minor": 5
}
